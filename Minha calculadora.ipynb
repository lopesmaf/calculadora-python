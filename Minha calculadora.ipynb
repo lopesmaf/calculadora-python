{
 "cells": [
  {
   "cell_type": "markdown",
   "metadata": {},
   "source": [
    "### Fazendo uma calculadora com python"
   ]
  },
  {
   "cell_type": "markdown",
   "metadata": {},
   "source": [
    "1. Imprimir na tela a mensagem para selecionar, de 1 a 4, o tipo de operação que será feito.\n",
    "    * coletar essa informação e criar condição que abrange do valor 1 ao valor 4. Usar if. \n",
    "    * caso a pessoa selecionar um opção que não está definida, imprimir uma mensagem de opção inválida. \n",
    "2. Imprimir na tela uma mensagem pedindo o primeiro número.\n",
    "    * Esse valor vai ser coletado e usado como variável dentro do if para o cálculo.\n",
    "3. Imprimir na tela uma mensagem pedindo o segundo número.\n",
    "    * Esse valor vai ser coletado e usado como variável dentro do if para o cálculo.\n",
    "4. Mostrar o resultado\n",
    "    * por fim, usar o comando print para mostrar o resultado."
   ]
  },
  {
   "cell_type": "code",
   "execution_count": 23,
   "metadata": {},
   "outputs": [
    {
     "name": "stdout",
     "output_type": "stream",
     "text": [
      "Selecione o número da operação desejada:\n",
      "\n",
      "1 - Soma\n",
      "2 - Subtração\n",
      "3 - Multiplicação\n",
      "4 - Divisão\n",
      "\n",
      "Digite sua opção (1/2/3/4):1\n"
     ]
    }
   ],
   "source": [
    "# mostrar mensagem na tela\n",
    "print(\"Selecione o número da operação desejada:\")\n",
    "print(\"\")\n",
    "print(\"1 - Soma\")\n",
    "print(\"2 - Subtração\")\n",
    "print(\"3 - Multiplicação\")\n",
    "print(\"4 - Divisão\")\n",
    "print(\"\")\n",
    "\n",
    "op = int(input(\"Digite sua opção (1/2/3/4):\"))"
   ]
  },
  {
   "cell_type": "code",
   "execution_count": 24,
   "metadata": {},
   "outputs": [
    {
     "name": "stdout",
     "output_type": "stream",
     "text": [
      "Digite o primeiro número:45\n",
      "Digite o segundo número:2453\n"
     ]
    }
   ],
   "source": [
    "#condição para saber se opção anterior existe\n",
    "# mostrar próximo passo de determinar os números que vão participar da operação \n",
    "if op > 4 :\n",
    "    print(\"Essa opção não é válida!\")\n",
    "else:\n",
    "    n1 = int(input(\"Digite o primeiro número:\"))\n",
    "    n2 = int(input(\"Digite o segundo número:\"))"
   ]
  },
  {
   "cell_type": "code",
   "execution_count": 25,
   "metadata": {},
   "outputs": [
    {
     "name": "stdout",
     "output_type": "stream",
     "text": [
      "O resultado é: 2498\n"
     ]
    }
   ],
   "source": [
    "#pegar os valores oferecidos e calcular a operação indicada\n",
    "if op == 1:\n",
    "    result = n1 + n2\n",
    "    print(\"O resultado é: %r\" %(result))\n",
    "elif op == 2:\n",
    "    result1 = n1 - n2\n",
    "    print(\"O resultado é: %s\" %(result1))\n",
    "elif op == 3:\n",
    "    result2 = n1 * n2\n",
    "    print(\"O resultado é: %r\" %(result2))\n",
    "else:\n",
    "    result3 = n1/n2\n",
    "    print(\"O resultado é: %s\" %(result3))"
   ]
  },
  {
   "cell_type": "markdown",
   "metadata": {},
   "source": [
    "### Fim!!!"
   ]
  }
 ],
 "metadata": {
  "kernelspec": {
   "display_name": "Python 3",
   "language": "python",
   "name": "python3"
  },
  "language_info": {
   "codemirror_mode": {
    "name": "ipython",
    "version": 3
   },
   "file_extension": ".py",
   "mimetype": "text/x-python",
   "name": "python",
   "nbconvert_exporter": "python",
   "pygments_lexer": "ipython3",
   "version": "3.8.5"
  }
 },
 "nbformat": 4,
 "nbformat_minor": 4
}
